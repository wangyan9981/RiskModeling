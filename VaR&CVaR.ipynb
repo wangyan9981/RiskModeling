{
 "cells": [
  {
   "cell_type": "markdown",
   "metadata": {},
   "source": [
    "# VaR & CVaR project "
   ]
  },
  {
   "cell_type": "code",
   "execution_count": 34,
   "metadata": {},
   "outputs": [],
   "source": [
    "import numpy as np\n",
    "import pandas as pd\n",
    "import yfinance as yf\n",
    "from scipy.stats import norm, t\n",
    "import matplotlib.pyplot as plt"
   ]
  },
  {
   "cell_type": "markdown",
   "metadata": {},
   "source": [
    "### Data Preparation"
   ]
  },
  {
   "cell_type": "code",
   "execution_count": 35,
   "metadata": {},
   "outputs": [
    {
     "name": "stderr",
     "output_type": "stream",
     "text": [
      "[*********************100%***********************]  1 of 1 completed\n"
     ]
    }
   ],
   "source": [
    "def fetch_returns(ticker='SPY', start_date='2020-01-01', end_date='2024-12-31'):\n",
    "    \"\"\"Fetch historical returns for S&P 500 ETF\"\"\"\n",
    "    data = yf.download(ticker, start=start_date, end=end_date)\n",
    "    returns = data['Adj Close'].pct_change().dropna()\n",
    "    return returns.squeeze()\n",
    "\n",
    "sp500_returns = fetch_returns()\n",
    "portfolio_value = 1e6 "
   ]
  },
  {
   "cell_type": "markdown",
   "metadata": {},
   "source": [
    "### VaR Calculation"
   ]
  },
  {
   "cell_type": "code",
   "execution_count": 36,
   "metadata": {},
   "outputs": [],
   "source": [
    "def calculate_var(returns, confidence_level=0.95, method='historical'):\n",
    "    \"\"\"Calculate Value-at-Risk using different methods\"\"\"\n",
    "    if method == 'historical':\n",
    "        return np.percentile(returns, 100*(1-confidence_level))\n",
    "    \n",
    "    elif method == 'normal':\n",
    "        mu = np.mean(returns)\n",
    "        sigma = np.std(returns)\n",
    "        return norm.ppf(1-confidence_level, mu, sigma)\n",
    "    \n",
    "    elif method == 't-dist':\n",
    "        params = t.fit(returns)\n",
    "        return t.ppf(1-confidence_level, *params)\n",
    "    \n",
    "    else:\n",
    "        raise ValueError(\"Invalid method. Choose: historical/normal/t-dist\")\n",
    "\n",
    "# Calculate 95% VaR using all methods\n",
    "historical_var = calculate_var(sp500_returns, method='historical')\n",
    "normal_var = calculate_var(sp500_returns, method='normal')\n",
    "t_dist_var = calculate_var(sp500_returns, method='t-dist')"
   ]
  },
  {
   "cell_type": "markdown",
   "metadata": {},
   "source": [
    "### CVaR Calculation"
   ]
  },
  {
   "cell_type": "code",
   "execution_count": 37,
   "metadata": {},
   "outputs": [],
   "source": [
    "def calculate_cvar(returns, confidence_level=0.95):\n",
    "    \"\"\"Calculate Conditional Value-at-Risk\"\"\"\n",
    "    var = calculate_var(returns, confidence_level, 'historical')\n",
    "    tail_losses = returns[returns <= var]\n",
    "    return np.mean(tail_losses)\n",
    "\n",
    "cvar = calculate_cvar(sp500_returns)"
   ]
  },
  {
   "cell_type": "markdown",
   "metadata": {},
   "source": [
    "### Backtesting"
   ]
  },
  {
   "cell_type": "code",
   "execution_count": 38,
   "metadata": {},
   "outputs": [],
   "source": [
    "def kupiec_test(returns, var, confidence_level=0.99):\n",
    "    \"\"\"Kupiec's Proportion of Failures Test\"\"\"\n",
    "    failures = returns < var\n",
    "    p_actual = failures.mean()\n",
    "    p_expected = 1 - confidence_level\n",
    "    \n",
    "    likelihood_ratio = -2 * (np.log((1-p_actual)**(len(returns)-failures.sum()) * p_actual**failures.sum()) \n",
    "                           - np.log((1-p_expected)**(len(returns)-failures.sum()) * p_expected**failures.sum()))\n",
    "    \n",
    "    return likelihood_ratio < 5.024  # Chi-square critical value (0.05, df=1)\n",
    "\n",
    "backtest_result = kupiec_test(sp500_returns, historical_var)\n"
   ]
  },
  {
   "cell_type": "markdown",
   "metadata": {},
   "source": [
    "### Visualization"
   ]
  },
  {
   "cell_type": "code",
   "execution_count": 39,
   "metadata": {},
   "outputs": [],
   "source": [
    "def plot_risk_distribution(returns, var, cvar):\n",
    "    plt.figure(figsize=(10,6))\n",
    "    plt.hist(returns, bins=50, density=True, alpha=0.6, label='Daily Returns')\n",
    "    \n",
    "    plt.axvline(var, color='r', linestyle='--', \n",
    "                label=f'95% VaR ({var*100:.2f}%)')\n",
    "    plt.axvline(cvar, color='darkred', linestyle='--',\n",
    "                label=f'CVaR ({cvar*100:.2f}%)')\n",
    "    \n",
    "    plt.title('Portfolio Risk Distribution')\n",
    "    plt.xlabel('Daily Returns')\n",
    "    plt.ylabel('Frequency')\n",
    "    plt.legend()\n",
    "    plt.savefig('risk_distribution.png', dpi=300)\n",
    "    plt.close()\n",
    "\n",
    "plot_risk_distribution(sp500_returns, historical_var, cvar)"
   ]
  },
  {
   "cell_type": "markdown",
   "metadata": {},
   "source": [
    "### Monte Carlo VaR"
   ]
  },
  {
   "cell_type": "code",
   "execution_count": 40,
   "metadata": {},
   "outputs": [
    {
     "name": "stderr",
     "output_type": "stream",
     "text": [
      "[*********************100%***********************]  1 of 1 completed\n"
     ]
    }
   ],
   "source": [
    "def monte_carlo_var(returns, days=1, simulations=10000):\n",
    "    \"\"\"Monte Carlo simulation for multi-day VaR\"\"\"\n",
    "\n",
    "    if isinstance(returns, (pd.Series, pd.DataFrame)):\n",
    "        returns = returns.values.squeeze() \n",
    "    \n",
    "    mu = np.mean(returns)\n",
    "    sigma = np.std(returns)\n",
    "    drift = mu - 0.5*sigma**2\n",
    "    \n",
    "    random_shocks = np.random.normal(size=(days, simulations))\n",
    "    daily_returns = np.exp(drift + sigma * random_shocks)\n",
    "    \n",
    "    portfolio_path = portfolio_value * daily_returns.prod(axis=0)\n",
    "    \n",
    "    sorted_returns = np.sort(portfolio_path)\n",
    "    var_index = int(0.05 * simulations)\n",
    "    return portfolio_value - sorted_returns[var_index]\n",
    "\n",
    "sp500_returns = fetch_returns()\n",
    "mc_var = monte_carlo_var(sp500_returns)\n"
   ]
  },
  {
   "cell_type": "markdown",
   "metadata": {},
   "source": [
    "### Output"
   ]
  },
  {
   "cell_type": "code",
   "execution_count": 41,
   "metadata": {},
   "outputs": [
    {
     "name": "stdout",
     "output_type": "stream",
     "text": [
      "Historical VaR (95%): -1.93%\n",
      "Normal Dist VaR (95%): -2.11%\n",
      "t-Dist VaR (95%): -1.78%\n",
      "CVaR (95%): -3.20%\n",
      "Kupiec Test Passed: True\n",
      "Monte Carlo 1-day VaR: $21,099.65\n"
     ]
    }
   ],
   "source": [
    "print(f\"Historical VaR (95%): {historical_var*100:.2f}%\")\n",
    "print(f\"Normal Dist VaR (95%): {normal_var*100:.2f}%\") \n",
    "print(f\"t-Dist VaR (95%): {t_dist_var*100:.2f}%\")\n",
    "print(f\"CVaR (95%): {cvar*100:.2f}%\")\n",
    "print(f\"Kupiec Test Passed: {backtest_result}\")\n",
    "print(f\"Monte Carlo 1-day VaR: ${mc_var:,.2f}\")"
   ]
  },
  {
   "cell_type": "code",
   "execution_count": null,
   "metadata": {},
   "outputs": [],
   "source": []
  }
 ],
 "metadata": {
  "kernelspec": {
   "display_name": "pyfi",
   "language": "python",
   "name": "python3"
  },
  "language_info": {
   "codemirror_mode": {
    "name": "ipython",
    "version": 3
   },
   "file_extension": ".py",
   "mimetype": "text/x-python",
   "name": "python",
   "nbconvert_exporter": "python",
   "pygments_lexer": "ipython3",
   "version": "3.9.20"
  }
 },
 "nbformat": 4,
 "nbformat_minor": 2
}
